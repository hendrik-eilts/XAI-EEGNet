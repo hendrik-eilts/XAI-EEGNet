{
 "cells": [
  {
   "cell_type": "code",
   "execution_count": 6,
   "metadata": {
    "ExecuteTime": {
     "end_time": "2023-08-10T15:26:19.533088400Z",
     "start_time": "2023-08-10T15:26:18.572092Z"
    }
   },
   "outputs": [
    {
     "name": "stdout",
     "output_type": "stream",
     "text": [
      "The autoreload extension is already loaded. To reload it, use:\n",
      "  %reload_ext autoreload\n"
     ]
    },
    {
     "ename": "ModuleNotFoundError",
     "evalue": "No module named 'crp'",
     "output_type": "error",
     "traceback": [
      "\u001b[0;31m---------------------------------------------------------------------------\u001b[0m",
      "\u001b[0;31mModuleNotFoundError\u001b[0m                       Traceback (most recent call last)",
      "Cell \u001b[0;32mIn[6], line 7\u001b[0m\n\u001b[1;32m      4\u001b[0m \u001b[39mimport\u001b[39;00m \u001b[39mnumpy\u001b[39;00m \u001b[39mas\u001b[39;00m \u001b[39mnp\u001b[39;00m\n\u001b[1;32m      5\u001b[0m \u001b[39mimport\u001b[39;00m \u001b[39mtorch\u001b[39;00m \n\u001b[0;32m----> 7\u001b[0m \u001b[39mimport\u001b[39;00m \u001b[39mdft_lrp\u001b[39;00m\n\u001b[1;32m      9\u001b[0m \u001b[39mimport\u001b[39;00m \u001b[39msynthetic_example\u001b[39;00m\n\u001b[1;32m     11\u001b[0m \u001b[39mfrom\u001b[39;00m \u001b[39mutils\u001b[39;00m \u001b[39mimport\u001b[39;00m lrp_utils\n",
      "File \u001b[0;32m/share/documents/students/heilts/Masterthesis/crp/DFT_LRP/dft_lrp.py:5\u001b[0m\n\u001b[1;32m      2\u001b[0m \u001b[39mimport\u001b[39;00m \u001b[39mtorch\u001b[39;00m\n\u001b[1;32m      3\u001b[0m \u001b[39mimport\u001b[39;00m \u001b[39mtorch\u001b[39;00m\u001b[39m.\u001b[39;00m\u001b[39mnn\u001b[39;00m \u001b[39mas\u001b[39;00m \u001b[39mnn\u001b[39;00m\n\u001b[0;32m----> 5\u001b[0m \u001b[39mimport\u001b[39;00m \u001b[39mcrp\u001b[39;00m\u001b[39m.\u001b[39;00m\u001b[39mDFT_LRP\u001b[39;00m\u001b[39m.\u001b[39;00m\u001b[39mutils\u001b[39;00m\u001b[39m.\u001b[39;00m\u001b[39mdft_utils\u001b[39;00m \u001b[39mas\u001b[39;00m \u001b[39mdft_utils\u001b[39;00m\n\u001b[1;32m      8\u001b[0m \u001b[39mclass\u001b[39;00m \u001b[39mDFTLRP\u001b[39;00m():\n\u001b[1;32m      9\u001b[0m     \u001b[39mdef\u001b[39;00m \u001b[39m__init__\u001b[39m(\u001b[39mself\u001b[39m, signal_length, precision\u001b[39m=\u001b[39m\u001b[39m32\u001b[39m, cuda\u001b[39m=\u001b[39m\u001b[39mTrue\u001b[39;00m, leverage_symmetry\u001b[39m=\u001b[39m\u001b[39mFalse\u001b[39;00m, window_shift\u001b[39m=\u001b[39m\u001b[39mNone\u001b[39;00m, window_width\u001b[39m=\u001b[39m\u001b[39mNone\u001b[39;00m, window_shape\u001b[39m=\u001b[39m\u001b[39mNone\u001b[39;00m, create_inverse\u001b[39m=\u001b[39m\u001b[39mTrue\u001b[39;00m, create_transpose_inverse\u001b[39m=\u001b[39m\u001b[39mTrue\u001b[39;00m, create_forward\u001b[39m=\u001b[39m\u001b[39mTrue\u001b[39;00m, create_dft\u001b[39m=\u001b[39m\u001b[39mTrue\u001b[39;00m, create_stdft\u001b[39m=\u001b[39m\u001b[39mTrue\u001b[39;00m) \u001b[39m-\u001b[39m\u001b[39m>\u001b[39m \u001b[39mNone\u001b[39;00m:\n",
      "\u001b[0;31mModuleNotFoundError\u001b[0m: No module named 'crp'"
     ]
    }
   ],
   "source": [
    "%load_ext autoreload\n",
    "%autoreload 2\n",
    "\n",
    "import numpy as np\n",
    "import torch \n",
    "\n",
    "import dft_lrp\n",
    "\n",
    "import synthetic_example\n",
    "\n",
    "from utils import lrp_utils\n",
    "\n",
    "from tqdm import tqdm\n",
    "import matplotlib.pyplot as plt"
   ]
  },
  {
   "attachments": {},
   "cell_type": "markdown",
   "metadata": {},
   "source": [
    "# Data and model"
   ]
  },
  {
   "attachments": {},
   "cell_type": "markdown",
   "metadata": {},
   "source": [
    "### Generate synthetic data"
   ]
  },
  {
   "cell_type": "code",
   "execution_count": null,
   "metadata": {
    "ExecuteTime": {
     "end_time": "2023-08-10T15:26:19.537090500Z",
     "start_time": "2023-08-10T15:26:18.920095200Z"
    }
   },
   "outputs": [],
   "source": [
    "signal_length = 2560"
   ]
  },
  {
   "cell_type": "code",
   "execution_count": null,
   "metadata": {
    "ExecuteTime": {
     "end_time": "2023-08-10T15:27:49.149474500Z",
     "start_time": "2023-08-10T15:26:19.261093700Z"
    }
   },
   "outputs": [],
   "source": [
    "freqs_star = np.array([5,16,32,53])  # for label generation\n",
    "\n",
    "x_train, _, y_train = synthetic_example.generate_signal_data(signal_length=signal_length,  \n",
    "                                                            max_freq = 64,\n",
    "                                                            n_freq_min=10,\n",
    "                                                            n_freq_max=50,\n",
    "                                                            n=10000,\n",
    "                                                            weighted_sampling=True,\n",
    "                                                            weight=1.2,\n",
    "                                                            random_phase=True,\n",
    "                                                            uniform_amplitude=True,\n",
    "                                                            freqs_for_powerset_label=freqs_star,\n",
    "                                                            noise_strength=0.01)\n",
    "\n",
    "signal_time, _, y_test = synthetic_example.generate_signal_data(signal_length=signal_length, \n",
    "                                                                max_freq = 64,\n",
    "                                                                n_freq_min=10,\n",
    "                                                                n_freq_max=50,\n",
    "                                                                n=100,\n",
    "                                                                weighted_sampling=True,\n",
    "                                                                weight=1.2,\n",
    "                                                                random_phase=True,\n",
    "                                                                uniform_amplitude=True,\n",
    "                                                                freqs_for_powerset_label=freqs_star,\n",
    "                                                                noise_strength=0)"
   ]
  },
  {
   "attachments": {},
   "cell_type": "markdown",
   "metadata": {},
   "source": [
    "### Train a simple MLP model in time domain"
   ]
  },
  {
   "cell_type": "code",
   "execution_count": null,
   "metadata": {
    "ExecuteTime": {
     "end_time": "2023-08-10T15:27:49.532485200Z",
     "start_time": "2023-08-10T15:27:49.157474400Z"
    }
   },
   "outputs": [],
   "source": [
    "# run training, inference and relevance backprop on cuda\n",
    "if torch.cuda.is_available():\n",
    "    cuda = True\n",
    "    device = torch.device(\"cuda\")\n",
    "else:\n",
    "    cuda = False\n",
    "    device = torch.device(\"cpu\")"
   ]
  },
  {
   "cell_type": "code",
   "execution_count": null,
   "metadata": {
    "ExecuteTime": {
     "end_time": "2023-08-10T15:33:40.407560800Z",
     "start_time": "2023-08-10T15:27:49.534474Z"
    }
   },
   "outputs": [],
   "source": [
    "model = synthetic_example.train_model(x_train, y_train,  signal_length=signal_length, cnn=False, n_label=16, \n",
    "                                        batch_size=128, lr=0.001, n_layer=2, epochs=5, cuda=cuda, binary=False)"
   ]
  },
  {
   "attachments": {},
   "cell_type": "markdown",
   "metadata": {},
   "source": [
    "Accuracy"
   ]
  },
  {
   "cell_type": "code",
   "execution_count": null,
   "metadata": {
    "ExecuteTime": {
     "end_time": "2023-08-10T15:33:41.088560300Z",
     "start_time": "2023-08-10T15:33:40.390602800Z"
    }
   },
   "outputs": [],
   "source": [
    "with torch.no_grad():\n",
    "    out = model(torch.tensor(signal_time, dtype=torch.float32, device=device)).cpu().numpy()\n",
    "\n",
    "test_acc = np.equal(out.argmax(axis=1), y_test).mean()\n",
    "print(\"test accuracy: \", test_acc)\n",
    "\n"
   ]
  },
  {
   "attachments": {},
   "cell_type": "markdown",
   "metadata": {},
   "source": [
    "# XAI in time, frequency and time-frequency domain"
   ]
  },
  {
   "attachments": {},
   "cell_type": "markdown",
   "metadata": {},
   "source": [
    "### LRP relevances in time domain"
   ]
  },
  {
   "cell_type": "code",
   "execution_count": null,
   "metadata": {
    "ExecuteTime": {
     "end_time": "2023-08-10T15:33:42.372560300Z",
     "start_time": "2023-08-10T15:33:41.057559500Z"
    }
   },
   "outputs": [],
   "source": [
    "batch_size = 100\n",
    "relevance_time = np.empty((signal_time.shape[0],signal_length))\n",
    "for b in tqdm(range(0,signal_time.shape[0],batch_size)):\n",
    "    relevance_time[b:b+batch_size] = lrp_utils.zennit_relevance(signal_time[b:b+batch_size], model, target=y_test[b:b+batch_size], attribution_method='lrp', cuda=cuda)"
   ]
  },
  {
   "attachments": {},
   "cell_type": "markdown",
   "metadata": {},
   "source": [
    "### DFT-LRP to propagate relevance from time to frequency domain"
   ]
  },
  {
   "cell_type": "code",
   "execution_count": null,
   "metadata": {
    "collapsed": false
   },
   "outputs": [],
   "source": [
    "# create DFTLRP object for DFT and DFT-LRP in pytorch\n",
    "dftlrp = dft_lrp.DFTLRP(signal_length, \n",
    "                        leverage_symmetry=True, \n",
    "                        precision=32,\n",
    "                        create_stdft=False,\n",
    "                        create_inverse=False,\n",
    "                        cuda=cuda\n",
    "                        )"
   ]
  },
  {
   "cell_type": "code",
   "execution_count": null,
   "metadata": {
    "ExecuteTime": {
     "end_time": "2023-08-10T15:33:46.008579200Z",
     "start_time": "2023-08-10T15:33:45.227562300Z"
    }
   },
   "outputs": [],
   "source": [
    "signal_freq = np.empty((signal_time.shape[0],signal_length//2+1), dtype=np.complex128)\n",
    "relevance_freq = np.empty((signal_time.shape[0],signal_length//2+1))\n",
    "\n",
    "for b in tqdm(range(0,signal_time.shape[0],batch_size)):\n",
    "    signal_freq[b:b+batch_size], relevance_freq[b:b+batch_size] = dftlrp.dft_lrp(relevance_time[b:b+batch_size], signal_time[b:b+batch_size], real=False, short_time=False)"
   ]
  },
  {
   "cell_type": "code",
   "execution_count": null,
   "metadata": {
    "ExecuteTime": {
     "end_time": "2023-08-10T15:33:46.314564700Z",
     "start_time": "2023-08-10T15:33:45.830565700Z"
    }
   },
   "outputs": [],
   "source": [
    "del dftlrp    # to free memory before STDFT which requires a lot of memory"
   ]
  },
  {
   "attachments": {},
   "cell_type": "markdown",
   "metadata": {},
   "source": [
    "### DFT-LRP to propagate relevance from time to time-frequency domain"
   ]
  },
  {
   "cell_type": "code",
   "execution_count": null,
   "metadata": {
    "ExecuteTime": {
     "end_time": "2023-08-10T15:34:06.763562500Z",
     "start_time": "2023-08-10T15:33:46.308577400Z"
    }
   },
   "outputs": [],
   "source": [
    "# create DFTLRP object for STDFT and STDFT-LRP in pytorch\n",
    "dftlrp = dft_lrp.DFTLRP(signal_length, \n",
    "                        leverage_symmetry=True, \n",
    "                        precision=32,\n",
    "                        window_shift=1, \n",
    "                        window_width=128, \n",
    "                        window_shape='rectangle',\n",
    "                        create_dft=False,\n",
    "                        create_inverse=False,\n",
    "                        cuda=cuda\n",
    "                        )"
   ]
  },
  {
   "cell_type": "code",
   "execution_count": null,
   "metadata": {
    "ExecuteTime": {
     "end_time": "2023-08-10T15:34:08.499176700Z",
     "start_time": "2023-08-10T15:34:06.764580200Z"
    }
   },
   "outputs": [],
   "source": [
    "signal_timefreq = np.empty((signal_time.shape[0],20,signal_length//2+1), dtype=np.complex128)\n",
    "relevance_timefreq = np.empty((signal_time.shape[0],20,signal_length//2+1))\n",
    "\n",
    "for b in tqdm(range(0,signal_time.shape[0],batch_size)):\n",
    "    signal_timefreq[b:b+batch_size], relevance_timefreq[b:b+batch_size] = dftlrp.dft_lrp(relevance_time[b:b+batch_size], signal_time[b:b+batch_size], real=False, short_time=True)"
   ]
  },
  {
   "attachments": {},
   "cell_type": "markdown",
   "metadata": {},
   "source": [
    "### Visualization"
   ]
  },
  {
   "cell_type": "code",
   "execution_count": null,
   "metadata": {
    "ExecuteTime": {
     "end_time": "2023-08-10T15:34:08.814150800Z",
     "start_time": "2023-08-10T15:34:08.496155600Z"
    }
   },
   "outputs": [],
   "source": [
    "def replace_positive(x, positive=True):\n",
    "    mask = x>0 if positive else x<0\n",
    "    x_mod = x.copy()\n",
    "    x_mod[mask] = 0\n",
    "    return x_mod"
   ]
  },
  {
   "cell_type": "code",
   "execution_count": null,
   "metadata": {
    "ExecuteTime": {
     "end_time": "2023-08-10T15:34:12.222151200Z",
     "start_time": "2023-08-10T15:34:08.816154100Z"
    }
   },
   "outputs": [],
   "source": [
    "sample_idx = 0\n",
    "\n",
    "nrows, ncols = 3,2\n",
    "figsize = (2*3.29, 2*3.29/ncols*nrows*1.4/2)\n",
    "fig, ax = plt.subplots(nrows,ncols, figsize=figsize)\n",
    "\n",
    "\n",
    "k_max = 100\n",
    "\n",
    "x = np.linspace(0,signal_length,signal_length)\n",
    "ax[0,0].plot(x, signal_time[sample_idx])\n",
    "ax[0,1].fill_between(x, replace_positive(relevance_time[sample_idx], positive=False), color=\"red\")\n",
    "ax[0,1].fill_between(x, replace_positive(relevance_time[sample_idx]), color=\"blue\")\n",
    "ax[0,0].set_xlabel(\"$n$\")\n",
    "ax[0,1].set_xlabel(\"$n$\")\n",
    "ax[0,0].set_ylabel(\"$x_n$\")\n",
    "ax[0,1].set_ylabel(\"$R_n$\")\n",
    "ax[0,0].set_title('signal in time domain')\n",
    "ax[0,1].set_title('LRP relevance in time domain')\n",
    "\n",
    "x =  np.linspace(0,k_max,k_max)\n",
    "ax[2,0].plot(x, np.abs(signal_freq[sample_idx,:k_max]))\n",
    "ax[2,1].fill_between(x, replace_positive(relevance_freq[sample_idx,:k_max], positive=False), color=\"red\")\n",
    "ax[2,1].fill_between(x, replace_positive(relevance_freq[sample_idx,:k_max]), color=\"blue\")\n",
    "ax[2,0].set_xlabel(\"$k$\")\n",
    "ax[2,1].set_xlabel(\"$k$\")\n",
    "ax[2,0].set_ylabel(\"$a_k$\")\n",
    "ax[2,1].set_ylabel(\"$R_k$\")\n",
    "ax[2,0].set_title('signal in freq. domain')\n",
    "ax[2,1].set_title('LRP relevance in freq. domain')\n",
    "\n",
    "ax[1,0].imshow(np.abs(signal_timefreq[sample_idx,:,:k_max].T), aspect=\"auto\", origin=\"lower\")\n",
    "ax[1,1].imshow(relevance_timefreq[sample_idx,:,:k_max].T, aspect=\"auto\", origin=\"lower\")\n",
    "ax[1,0].set_xlabel(\"$t$\")\n",
    "ax[1,1].set_xlabel(\"$t$\")\n",
    "ax[1,0].set_ylabel(\"$k$\")\n",
    "ax[1,1].set_ylabel(\"$k$\")\n",
    "ax[1,0].set_title('signal in time-freq. domain')\n",
    "ax[1,1].set_title('LRP relevance in time-freq. domain')\n",
    "\n",
    "plt.tight_layout()"
   ]
  }
 ],
 "metadata": {
  "kernelspec": {
   "display_name": ".venv",
   "language": "python",
   "name": "python3"
  },
  "language_info": {
   "codemirror_mode": {
    "name": "ipython",
    "version": 3
   },
   "file_extension": ".py",
   "mimetype": "text/x-python",
   "name": "python",
   "nbconvert_exporter": "python",
   "pygments_lexer": "ipython3",
   "version": "3.8.10"
  },
  "orig_nbformat": 4
 },
 "nbformat": 4,
 "nbformat_minor": 2
}
